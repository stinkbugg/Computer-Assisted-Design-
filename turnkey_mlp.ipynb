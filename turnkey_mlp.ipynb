{
 "cells": [
  {
   "cell_type": "markdown",
   "metadata": {},
   "source": [
    "# Machine Learning Project"
   ]
  },
  {
   "cell_type": "code",
   "execution_count": 1,
   "metadata": {},
   "outputs": [],
   "source": [
    "import numpy as np\n",
    "import pandas as pd\n",
    "from sklearn.model_selection import train_test_split\n",
    "import matplotlib.pyplot as plt\n",
    "from sklearn.svm import SVR\n",
    "from sklearn.metrics import mean_squared_error\n",
    "from sklearn.ensemble import RandomForestRegressor\n",
    "from sklearn.model_selection import cross_val_score\n",
    "from sklearn.model_selection import GridSearchCV\n",
    "from sklearn.preprocessing import StandardScaler\n",
    "\n",
    "#Unique to this f\n",
    "import tensorflow as tf\n",
    "from tensorflow.keras.models import Sequential\n",
    "from tensorflow.keras.layers import Dense"
   ]
  },
  {
   "cell_type": "code",
   "execution_count": 2,
   "metadata": {},
   "outputs": [
    {
     "name": "stdout",
     "output_type": "stream",
     "text": [
      "Original Shape (65536, 4)\n",
      "Original Shape (39894, 33)\n",
      "       Objective Function Value  Variant1_A  Variant1_B  Variant2_A  \\\n",
      "18                     5.414224           1           0           1   \n",
      "22                     5.414222           1           0           1   \n",
      "26                     5.414243           1           0           1   \n",
      "30                     5.414230           1           0           1   \n",
      "48                     8.702512           1           0           1   \n",
      "...                         ...         ...         ...         ...   \n",
      "65531                  2.970487           0           1           0   \n",
      "65532                  2.975706           0           1           0   \n",
      "65533                  2.985979           0           1           0   \n",
      "65534                  2.919980           0           1           0   \n",
      "65535                  2.970328           0           1           0   \n",
      "\n",
      "       Variant2_B  Variant3_A  Variant3_B  Variant4_A  Variant4_B  Variant5_A  \\\n",
      "18              0           1           0           1           0           1   \n",
      "22              0           1           0           1           0           1   \n",
      "26              0           1           0           1           0           1   \n",
      "30              0           1           0           1           0           1   \n",
      "48              0           1           0           1           0           1   \n",
      "...           ...         ...         ...         ...         ...         ...   \n",
      "65531           1           0           1           0           1           0   \n",
      "65532           1           0           1           0           1           0   \n",
      "65533           1           0           1           0           1           0   \n",
      "65534           1           0           1           0           1           0   \n",
      "65535           1           0           1           0           1           0   \n",
      "\n",
      "       ...  Variant12_A  Variant12_B  Variant13_A  Variant13_B  Variant14_A  \\\n",
      "18     ...            0            1            1            0            1   \n",
      "22     ...            0            1            1            0            0   \n",
      "26     ...            0            1            0            1            1   \n",
      "30     ...            0            1            0            1            0   \n",
      "48     ...            0            1            1            0            1   \n",
      "...    ...          ...          ...          ...          ...          ...   \n",
      "65531  ...            0            1            0            1            1   \n",
      "65532  ...            0            1            0            1            0   \n",
      "65533  ...            0            1            0            1            0   \n",
      "65534  ...            0            1            0            1            0   \n",
      "65535  ...            0            1            0            1            0   \n",
      "\n",
      "       Variant14_B  Variant15_A  Variant15_B  Variant16_A  Variant16_B  \n",
      "18               0            0            1            1            0  \n",
      "22               1            0            1            1            0  \n",
      "26               0            0            1            1            0  \n",
      "30               1            0            1            1            0  \n",
      "48               0            1            0            1            0  \n",
      "...            ...          ...          ...          ...          ...  \n",
      "65531            0            0            1            0            1  \n",
      "65532            1            1            0            1            0  \n",
      "65533            1            1            0            0            1  \n",
      "65534            1            0            1            1            0  \n",
      "65535            1            0            1            0            1  \n",
      "\n",
      "[39894 rows x 33 columns]\n"
     ]
    }
   ],
   "source": [
    "# Parse data file for model\n",
    "df = pd.read_csv('variants_with_obj_function.csv')\n",
    "print(\"Original Shape\", df.shape)\n",
    "# Add 16 new columns to the front of the DataFrame\n",
    "for i in range(16):\n",
    "    col_name = 'Variant{}'.format(i+1)\n",
    "    df.insert(i, col_name, df['Variant Combination'])\n",
    "    df[col_name] = df[col_name].str.slice(i, i+1) # IF need to change A to 1 and B to 0 make it here\n",
    "#     df[col_name] = df[col_name].replace({'A': -1, 'B': 1})\n",
    "    \n",
    "df = df.drop(columns=['Unnamed: 0', 'replicate', 'Variant Combination'])\n",
    "\n",
    "df = df.loc[df['Objective Function Value'] <= 10]\n",
    "\n",
    "df_encoded = pd.get_dummies(df, columns=['Variant1', 'Variant2', 'Variant3', 'Variant4', 'Variant5', 'Variant6', 'Variant7', 'Variant8', 'Variant9', 'Variant10', 'Variant11', 'Variant12', 'Variant13', 'Variant14', 'Variant15', 'Variant16'])\n",
    "\n",
    "print(\"Original Shape\", df_encoded.shape)\n",
    "print(df_encoded)"
   ]
  },
  {
   "cell_type": "code",
   "execution_count": 3,
   "metadata": {},
   "outputs": [
    {
     "data": {
      "image/png": "[encoded data removed]",
      "text/plain": [
       "<Figure size 432x288 with 1 Axes>"
      ]
     },
     "metadata": {
      "needs_background": "light"
     },
     "output_type": "display_data"
    }
   ],
   "source": [
    "# Split data into training and testing sets\n",
    "# X = df.iloc[:, :-1] # select all columns except the last one (Objective Function Value)\n",
    "# y = df.iloc[:, -1] # select only the last column (Objective Function Value)\n",
    "\n",
    "X = df_encoded.drop(['Objective Function Value'], axis=1)\n",
    "y = df_encoded['Objective Function Value']\n",
    "y_sqrt = np.sqrt(y)\n",
    "y_log = np.log(y + 1)\n",
    "\n",
    "\n",
    "# split the data into train and test sets\n",
    "X_train, X_test, y_train, y_test = train_test_split(X, y, test_size=0.2, random_state=42)\n",
    "\n",
    "X_train.shape\n",
    "\n",
    "# Plot MSE\n",
    "plt.plot(range(len(y_train)), y_train, '.', color='blue')\n",
    "# plt.plot(range(20), y_pred[:20], '.', color='red')\n",
    "plt.xlabel('True Values')\n",
    "plt.ylabel('Predictions')\n",
    "plt.show()\n"
   ]
  },
  {
   "cell_type": "code",
   "execution_count": 4,
   "metadata": {},
   "outputs": [],
   "source": [
    "# Define the MLP model\n",
    "def create_mlp(input_dim, structure, output_dim):\n",
    "    model = Sequential()\n",
    "    \n",
    "    for i in range(len(structure)):\n",
    "        if (i == 0):\n",
    "            model.add(Dense(structure[0], input_dim=input_dim, activation='relu'))\n",
    "        else:\n",
    "            model.add(Dense(structure[i], input_dim=structure[i-1], activation='relu'))\n",
    "    \n",
    "    \n",
    "    model.add(Dense(output_dim, activation='linear'))\n",
    "    return model\n",
    "\n",
    "def create_structure(input_dim, output_dim, depth):\n",
    "    structure_dec = []\n",
    "    structure_round = []\n",
    "    \n",
    "    for i in range(depth):\n",
    "        new_layer_hidden = 0\n",
    "        if (len(structure_dec) > 0):\n",
    "            new_layer_hidden = (structure_dec[-1] * (2/3)) + output_dim\n",
    "        else:\n",
    "            new_layer_hidden = (input_dim * (2/3)) + output_dim\n",
    "        structure_dec.append(new_layer_hidden)\n",
    "        \n",
    "    for val in structure_dec:\n",
    "        structure_round.append(round(val))\n",
    "    return structure_round"
   ]
  },
  {
   "cell_type": "code",
   "execution_count": 5,
   "metadata": {},
   "outputs": [
    {
     "name": "stdout",
     "output_type": "stream",
     "text": [
      "[22, 16, 12, 9, 7]\n",
      "Epoch 1/100\n",
      "639/639 [==============================] - 1s 1ms/step - loss: 9.7188 - mse: 9.7188 - val_loss: 4.2496 - val_mse: 4.2496\n",
      "Epoch 2/100\n",
      "639/639 [==============================] - 0s 776us/step - loss: 4.1304 - mse: 4.1304 - val_loss: 3.4545 - val_mse: 3.4545\n",
      "Epoch 3/100\n",
      "639/639 [==============================] - 1s 902us/step - loss: 3.3748 - mse: 3.3748 - val_loss: 2.9697 - val_mse: 2.9697\n",
      "Epoch 4/100\n",
      "639/639 [==============================] - 0s 775us/step - loss: 2.8479 - mse: 2.8479 - val_loss: 2.6033 - val_mse: 2.6033\n",
      "Epoch 5/100\n",
      "639/639 [==============================] - 0s 781us/step - loss: 2.5872 - mse: 2.5872 - val_loss: 2.3554 - val_mse: 2.3554\n",
      "Epoch 6/100\n",
      "639/639 [==============================] - 0s 782us/step - loss: 2.3063 - mse: 2.3063 - val_loss: 2.0990 - val_mse: 2.0990\n",
      "Epoch 7/100\n",
      "639/639 [==============================] - 0s 778us/step - loss: 1.9590 - mse: 1.9590 - val_loss: 1.7202 - val_mse: 1.7202\n",
      "Epoch 8/100\n",
      "639/639 [==============================] - 1s 785us/step - loss: 1.5711 - mse: 1.5711 - val_loss: 1.2363 - val_mse: 1.2363\n",
      "Epoch 9/100\n",
      "639/639 [==============================] - 1s 792us/step - loss: 1.0211 - mse: 1.0211 - val_loss: 0.8625 - val_mse: 0.8625\n",
      "Epoch 10/100\n",
      "639/639 [==============================] - 0s 777us/step - loss: 0.7985 - mse: 0.7985 - val_loss: 0.7770 - val_mse: 0.7770\n",
      "Epoch 11/100\n",
      "639/639 [==============================] - 0s 780us/step - loss: 0.7385 - mse: 0.7385 - val_loss: 0.6674 - val_mse: 0.6674\n",
      "Epoch 12/100\n",
      "639/639 [==============================] - 1s 783us/step - loss: 0.6745 - mse: 0.6745 - val_loss: 0.6225 - val_mse: 0.6225\n",
      "Epoch 13/100\n",
      "639/639 [==============================] - 0s 781us/step - loss: 0.6105 - mse: 0.6105 - val_loss: 0.6102 - val_mse: 0.6102\n",
      "Epoch 14/100\n",
      "639/639 [==============================] - 0s 781us/step - loss: 0.5853 - mse: 0.5853 - val_loss: 0.5223 - val_mse: 0.5223\n",
      "Epoch 15/100\n",
      "639/639 [==============================] - 0s 782us/step - loss: 0.5575 - mse: 0.5575 - val_loss: 0.6143 - val_mse: 0.6143\n",
      "Epoch 16/100\n",
      "639/639 [==============================] - 0s 781us/step - loss: 0.5136 - mse: 0.5136 - val_loss: 0.4682 - val_mse: 0.4682\n",
      "Epoch 17/100\n",
      "639/639 [==============================] - 0s 776us/step - loss: 0.4920 - mse: 0.4920 - val_loss: 0.5240 - val_mse: 0.5240\n",
      "Epoch 18/100\n",
      "639/639 [==============================] - 1s 785us/step - loss: 0.4339 - mse: 0.4339 - val_loss: 0.4118 - val_mse: 0.4118\n",
      "Epoch 19/100\n",
      "639/639 [==============================] - 1s 782us/step - loss: 0.4150 - mse: 0.4150 - val_loss: 0.3893 - val_mse: 0.3893\n",
      "Epoch 20/100\n",
      "639/639 [==============================] - 0s 780us/step - loss: 0.3871 - mse: 0.3871 - val_loss: 0.4127 - val_mse: 0.4127\n",
      "Epoch 21/100\n",
      "639/639 [==============================] - 0s 782us/step - loss: 0.3743 - mse: 0.3743 - val_loss: 0.3237 - val_mse: 0.3237\n",
      "Epoch 22/100\n",
      "639/639 [==============================] - 1s 784us/step - loss: 0.3352 - mse: 0.3352 - val_loss: 0.3401 - val_mse: 0.3401\n",
      "Epoch 23/100\n",
      "639/639 [==============================] - 0s 779us/step - loss: 0.3304 - mse: 0.3304 - val_loss: 0.3094 - val_mse: 0.3094\n",
      "Epoch 24/100\n",
      "639/639 [==============================] - 1s 784us/step - loss: 0.3050 - mse: 0.3050 - val_loss: 0.3040 - val_mse: 0.3040\n",
      "Epoch 25/100\n",
      "639/639 [==============================] - 1s 783us/step - loss: 0.2987 - mse: 0.2987 - val_loss: 0.3147 - val_mse: 0.3147\n",
      "Epoch 26/100\n",
      "639/639 [==============================] - 1s 784us/step - loss: 0.2786 - mse: 0.2786 - val_loss: 0.3212 - val_mse: 0.3212\n",
      "Epoch 27/100\n",
      "639/639 [==============================] - 0s 774us/step - loss: 0.2868 - mse: 0.2868 - val_loss: 0.2820 - val_mse: 0.2820\n",
      "Epoch 28/100\n",
      "639/639 [==============================] - 1s 788us/step - loss: 0.2769 - mse: 0.2769 - val_loss: 0.3391 - val_mse: 0.3391\n",
      "Epoch 29/100\n",
      "639/639 [==============================] - 1s 782us/step - loss: 0.2710 - mse: 0.2710 - val_loss: 0.2790 - val_mse: 0.2790\n",
      "Epoch 30/100\n",
      "639/639 [==============================] - 1s 783us/step - loss: 0.2451 - mse: 0.2451 - val_loss: 0.3050 - val_mse: 0.3050\n",
      "Epoch 31/100\n",
      "639/639 [==============================] - 0s 780us/step - loss: 0.2492 - mse: 0.2492 - val_loss: 0.2248 - val_mse: 0.2248\n",
      "Epoch 32/100\n",
      "639/639 [==============================] - 1s 785us/step - loss: 0.2333 - mse: 0.2333 - val_loss: 0.2470 - val_mse: 0.2470\n",
      "Epoch 33/100\n",
      "639/639 [==============================] - 1s 783us/step - loss: 0.2405 - mse: 0.2405 - val_loss: 0.2455 - val_mse: 0.2455\n",
      "Epoch 34/100\n",
      "639/639 [==============================] - 0s 780us/step - loss: 0.2294 - mse: 0.2294 - val_loss: 0.2528 - val_mse: 0.2528\n",
      "Epoch 35/100\n",
      "639/639 [==============================] - 1s 787us/step - loss: 0.2351 - mse: 0.2351 - val_loss: 0.2198 - val_mse: 0.2198\n",
      "Epoch 36/100\n",
      "639/639 [==============================] - 1s 783us/step - loss: 0.2254 - mse: 0.2254 - val_loss: 0.2431 - val_mse: 0.2431\n",
      "Epoch 37/100\n",
      "639/639 [==============================] - 0s 779us/step - loss: 0.2105 - mse: 0.2105 - val_loss: 0.2525 - val_mse: 0.2525\n",
      "Epoch 38/100\n",
      "639/639 [==============================] - 1s 784us/step - loss: 0.2131 - mse: 0.2131 - val_loss: 0.1984 - val_mse: 0.1984\n",
      "Epoch 39/100\n",
      "639/639 [==============================] - 1s 786us/step - loss: 0.2177 - mse: 0.2177 - val_loss: 0.2080 - val_mse: 0.2080\n",
      "Epoch 40/100\n",
      "639/639 [==============================] - 1s 787us/step - loss: 0.2170 - mse: 0.2170 - val_loss: 0.2140 - val_mse: 0.2140\n",
      "Epoch 41/100\n",
      "639/639 [==============================] - 1s 787us/step - loss: 0.2019 - mse: 0.2019 - val_loss: 0.2148 - val_mse: 0.2148\n",
      "Epoch 42/100\n",
      "639/639 [==============================] - 0s 776us/step - loss: 0.2059 - mse: 0.2059 - val_loss: 0.2094 - val_mse: 0.2094\n",
      "Epoch 43/100\n",
      "639/639 [==============================] - 1s 783us/step - loss: 0.2052 - mse: 0.2052 - val_loss: 0.1823 - val_mse: 0.1823\n",
      "Epoch 44/100\n",
      "639/639 [==============================] - 1s 784us/step - loss: 0.1958 - mse: 0.1958 - val_loss: 0.1823 - val_mse: 0.1823\n",
      "Epoch 45/100\n",
      "639/639 [==============================] - 1s 784us/step - loss: 0.1933 - mse: 0.1933 - val_loss: 0.2127 - val_mse: 0.2127\n",
      "Epoch 46/100\n",
      "639/639 [==============================] - 1s 910us/step - loss: 0.1948 - mse: 0.1948 - val_loss: 0.1969 - val_mse: 0.1969\n",
      "Epoch 47/100\n",
      "639/639 [==============================] - 0s 780us/step - loss: 0.1857 - mse: 0.1857 - val_loss: 0.1939 - val_mse: 0.1939\n",
      "Epoch 48/100\n",
      "639/639 [==============================] - 0s 779us/step - loss: 0.1809 - mse: 0.1809 - val_loss: 0.1991 - val_mse: 0.1991\n",
      "Epoch 49/100\n",
      "639/639 [==============================] - 1s 785us/step - loss: 0.1947 - mse: 0.1947 - val_loss: 0.1855 - val_mse: 0.1855\n",
      "Epoch 50/100\n",
      "639/639 [==============================] - 1s 789us/step - loss: 0.1771 - mse: 0.1771 - val_loss: 0.2359 - val_mse: 0.2359\n",
      "Epoch 51/100\n",
      "639/639 [==============================] - 0s 781us/step - loss: 0.1827 - mse: 0.1827 - val_loss: 0.2311 - val_mse: 0.2311\n",
      "Epoch 52/100\n",
      "639/639 [==============================] - 1s 784us/step - loss: 0.1816 - mse: 0.1816 - val_loss: 0.1996 - val_mse: 0.1996\n",
      "Epoch 53/100\n",
      "639/639 [==============================] - 1s 784us/step - loss: 0.1744 - mse: 0.1744 - val_loss: 0.1592 - val_mse: 0.1592\n",
      "Epoch 54/100\n",
      "639/639 [==============================] - 1s 784us/step - loss: 0.1885 - mse: 0.1885 - val_loss: 0.1901 - val_mse: 0.1901\n",
      "Epoch 55/100\n",
      "639/639 [==============================] - 0s 780us/step - loss: 0.1762 - mse: 0.1762 - val_loss: 0.1713 - val_mse: 0.1713\n",
      "Epoch 56/100\n",
      "639/639 [==============================] - 0s 778us/step - loss: 0.1672 - mse: 0.1672 - val_loss: 0.2281 - val_mse: 0.2281\n",
      "Epoch 57/100\n",
      "639/639 [==============================] - 0s 781us/step - loss: 0.1716 - mse: 0.1716 - val_loss: 0.1911 - val_mse: 0.1911\n",
      "Epoch 58/100\n",
      "639/639 [==============================] - 0s 782us/step - loss: 0.1696 - mse: 0.1696 - val_loss: 0.1982 - val_mse: 0.1982\n",
      "Epoch 59/100\n",
      "639/639 [==============================] - 0s 779us/step - loss: 0.1686 - mse: 0.1686 - val_loss: 0.1856 - val_mse: 0.1856\n",
      "Epoch 60/100\n",
      "639/639 [==============================] - 1s 785us/step - loss: 0.1619 - mse: 0.1619 - val_loss: 0.1682 - val_mse: 0.1682\n",
      "Epoch 61/100\n"
     ]
    },
    {
     "name": "stdout",
     "output_type": "stream",
     "text": [
      "639/639 [==============================] - 0s 781us/step - loss: 0.1646 - mse: 0.1646 - val_loss: 0.1787 - val_mse: 0.1787\n",
      "Epoch 62/100\n",
      "639/639 [==============================] - 0s 782us/step - loss: 0.1689 - mse: 0.1689 - val_loss: 0.1673 - val_mse: 0.1673\n",
      "Epoch 63/100\n",
      "639/639 [==============================] - 1s 783us/step - loss: 0.1589 - mse: 0.1589 - val_loss: 0.1530 - val_mse: 0.1530\n",
      "Epoch 64/100\n",
      "639/639 [==============================] - 1s 783us/step - loss: 0.1618 - mse: 0.1618 - val_loss: 0.1590 - val_mse: 0.1590\n",
      "Epoch 65/100\n",
      "639/639 [==============================] - 1s 785us/step - loss: 0.1544 - mse: 0.1544 - val_loss: 0.1589 - val_mse: 0.1589\n",
      "Epoch 66/100\n",
      "639/639 [==============================] - 0s 780us/step - loss: 0.1612 - mse: 0.1612 - val_loss: 0.1677 - val_mse: 0.1677\n",
      "Epoch 67/100\n",
      "639/639 [==============================] - 1s 783us/step - loss: 0.1584 - mse: 0.1584 - val_loss: 0.1678 - val_mse: 0.1678\n",
      "Epoch 68/100\n",
      "639/639 [==============================] - 1s 783us/step - loss: 0.1582 - mse: 0.1582 - val_loss: 0.1452 - val_mse: 0.1452\n",
      "Epoch 69/100\n",
      "639/639 [==============================] - 0s 779us/step - loss: 0.1524 - mse: 0.1524 - val_loss: 0.1811 - val_mse: 0.1811\n",
      "Epoch 70/100\n",
      "639/639 [==============================] - 0s 782us/step - loss: 0.1524 - mse: 0.1524 - val_loss: 0.1564 - val_mse: 0.1564\n",
      "Epoch 71/100\n",
      "639/639 [==============================] - 1s 788us/step - loss: 0.1534 - mse: 0.1534 - val_loss: 0.1341 - val_mse: 0.1341\n",
      "Epoch 72/100\n",
      "639/639 [==============================] - 1s 792us/step - loss: 0.1596 - mse: 0.1596 - val_loss: 0.1642 - val_mse: 0.1642\n",
      "Epoch 73/100\n",
      "639/639 [==============================] - 1s 787us/step - loss: 0.1549 - mse: 0.1549 - val_loss: 0.1704 - val_mse: 0.1704\n",
      "Epoch 74/100\n",
      "639/639 [==============================] - 1s 786us/step - loss: 0.1477 - mse: 0.1477 - val_loss: 0.1355 - val_mse: 0.1355\n",
      "Epoch 75/100\n",
      "639/639 [==============================] - 1s 794us/step - loss: 0.1511 - mse: 0.1511 - val_loss: 0.1775 - val_mse: 0.1775\n",
      "Epoch 76/100\n",
      "639/639 [==============================] - 1s 788us/step - loss: 0.1562 - mse: 0.1562 - val_loss: 0.1456 - val_mse: 0.1456\n",
      "Epoch 77/100\n",
      "639/639 [==============================] - 1s 784us/step - loss: 0.1488 - mse: 0.1488 - val_loss: 0.1406 - val_mse: 0.1406\n",
      "Epoch 78/100\n",
      "639/639 [==============================] - 0s 780us/step - loss: 0.1528 - mse: 0.1528 - val_loss: 0.1764 - val_mse: 0.1764\n",
      "Epoch 79/100\n",
      "639/639 [==============================] - 0s 780us/step - loss: 0.1450 - mse: 0.1450 - val_loss: 0.1391 - val_mse: 0.1391\n",
      "Epoch 80/100\n",
      "639/639 [==============================] - 1s 786us/step - loss: 0.1401 - mse: 0.1401 - val_loss: 0.1671 - val_mse: 0.1671\n",
      "Epoch 81/100\n",
      "639/639 [==============================] - 1s 785us/step - loss: 0.1495 - mse: 0.1495 - val_loss: 0.1530 - val_mse: 0.1530\n"
     ]
    },
    {
     "data": {
      "image/png": "[encoded data removed]",
      "text/plain": [
       "<Figure size 432x288 with 1 Axes>"
      ]
     },
     "metadata": {
      "needs_background": "light"
     },
     "output_type": "display_data"
    },
    {
     "data": {
      "text/html": [
       "<div>\n",
       "<style scoped>\n",
       "    .dataframe tbody tr th:only-of-type {\n",
       "        vertical-align: middle;\n",
       "    }\n",
       "\n",
       "    .dataframe tbody tr th {\n",
       "        vertical-align: top;\n",
       "    }\n",
       "\n",
       "    .dataframe thead th {\n",
       "        text-align: right;\n",
       "    }\n",
       "</style>\n",
       "<table border=\"1\" class=\"dataframe\">\n",
       "  <thead>\n",
       "    <tr style=\"text-align: right;\">\n",
       "      <th></th>\n",
       "      <th>Structure</th>\n",
       "      <th>Val MSE</th>\n",
       "      <th>Epochs</th>\n",
       "    </tr>\n",
       "  </thead>\n",
       "  <tbody>\n",
       "    <tr>\n",
       "      <th>0</th>\n",
       "      <td>[22, 16, 12, 9, 7]</td>\n",
       "      <td>0.152954</td>\n",
       "      <td>81</td>\n",
       "    </tr>\n",
       "  </tbody>\n",
       "</table>\n",
       "</div>"
      ],
      "text/plain": [
       "            Structure   Val MSE  Epochs\n",
       "0  [22, 16, 12, 9, 7]  0.152954      81"
      ]
     },
     "execution_count": 5,
     "metadata": {},
     "output_type": "execute_result"
    }
   ],
   "source": [
    "data = []\n",
    "# X_train = X\n",
    "# y_train = y_log\n",
    "input_dim = X_train.shape[1]\n",
    "output_dim = 1\n",
    "depth = 5\n",
    "\n",
    "structure = create_structure(input_dim, output_dim, depth)\n",
    "print(structure)\n",
    "\n",
    "# Set up the session config to limit GPU memory usage\n",
    "config = tf.compat.v1.ConfigProto()\n",
    "config.gpu_options.allow_growth = True\n",
    "session = tf.compat.v1.Session(config=config)\n",
    "tf.compat.v1.keras.backend.set_session(session)\n",
    "model = 0\n",
    "\n",
    "# Create the model\n",
    "with tf.device('/GPU:0'): # specify the GPU to use\n",
    "    model = create_mlp(input_dim, structure, output_dim)\n",
    "\n",
    "    # Compile the model with an optimizer and loss function\n",
    "    model.compile(optimizer='adam', loss='mean_squared_error', metrics=['mse'])\n",
    "\n",
    "    # Train the model with early stopping\n",
    "    early_stop = tf.keras.callbacks.EarlyStopping(monitor='val_loss', patience=10)\n",
    "    history = model.fit(X_train, y_train, epochs=100, batch_size=40, validation_split=0.2, callbacks=[early_stop])\n",
    "\n",
    "    plt.plot(history.history['mse'])\n",
    "    plt.plot(history.history['val_mse'])\n",
    "    plt.title('model accuracy')\n",
    "    plt.ylabel('MSE')\n",
    "    plt.xlabel('epoch')\n",
    "    plt.legend(['train', 'val'], loc='upper left')\n",
    "    plt.show()\n",
    "\n",
    "    data.append([structure, history.history['val_mse'][-1], len(history.history['val_mse'])])\n",
    "\n",
    "df = pd.DataFrame(data, columns=('Structure', 'Val MSE', 'Epochs'))\n",
    "df_sorted = df.sort_values(by='Val MSE')\n",
    "df_sorted"
   ]
  },
  {
   "cell_type": "code",
   "execution_count": 6,
   "metadata": {},
   "outputs": [
    {
     "data": {
      "image/png": "[encoded data removed]",
      "text/plain": [
       "<Figure size 432x288 with 1 Axes>"
      ]
     },
     "metadata": {
      "needs_background": "light"
     },
     "output_type": "display_data"
    }
   ],
   "source": [
    "y_pred = model.predict(X_test)\n",
    "\n",
    "# Plot Guesses\n",
    "num = 10\n",
    "plt.plot(range(num), y_test[:num], '.', color='blue')\n",
    "plt.plot(range(num), y_pred[:num], '.', color='red')\n",
    "plt.xlabel('Samples')\n",
    "plt.ylabel('Objective Function Value')\n",
    "plt.show()"
   ]
  },
  {
   "cell_type": "code",
   "execution_count": 94,
   "metadata": {},
   "outputs": [
    {
     "data": {
      "image/png": "[encoded data removed]",
      "text/plain": [
       "<Figure size 432x288 with 1 Axes>"
      ]
     },
     "metadata": {
      "needs_background": "light"
     },
     "output_type": "display_data"
    }
   ],
   "source": [
    "# Plot Guesses\n",
    "num = 20\n",
    "plt.plot(range(10), y_test[10:num], '.', color='blue')\n",
    "plt.plot(range(10), y_pred[10:num], '.', color='red')\n",
    "plt.xlabel('Samples')\n",
    "plt.ylabel('Objective Function Value')\n",
    "plt.show()"
   ]
  },
  {
   "cell_type": "code",
   "execution_count": 127,
   "metadata": {},
   "outputs": [
    {
     "name": "stdout",
     "output_type": "stream",
     "text": [
      "Variant1_A     1\n",
      "Variant1_B     0\n",
      "Variant2_A     1\n",
      "Variant2_B     0\n",
      "Variant3_A     1\n",
      "Variant3_B     0\n",
      "Variant4_A     1\n",
      "Variant4_B     0\n",
      "Variant5_A     1\n",
      "Variant5_B     0\n",
      "Variant6_A     1\n",
      "Variant6_B     0\n",
      "Variant7_A     1\n",
      "Variant7_B     0\n",
      "Variant8_A     1\n",
      "Variant8_B     0\n",
      "Variant9_A     1\n",
      "Variant9_B     0\n",
      "Variant10_A    1\n",
      "Variant10_B    0\n",
      "Variant11_A    1\n",
      "Variant11_B    0\n",
      "Variant12_A    1\n",
      "Variant12_B    0\n",
      "Variant13_A    1\n",
      "Variant13_B    0\n",
      "Variant14_A    1\n",
      "Variant14_B    0\n",
      "Variant15_A    1\n",
      "Variant15_B    0\n",
      "Variant16_A    1\n",
      "Variant16_B    0\n",
      "Name: 39894, dtype: uint8\n"
     ]
    }
   ],
   "source": [
    "X = df_encoded.drop(['Objective Function Value'], axis=1)\n",
    "X.loc[len(X)] = [1, 0, 1, 0, 1, 0, 1, 0, 1, 0, 1, 0, 1, 0, 1, 0, 1, 0, 1, 0, 1, 0, 1, 0, 1, 0, 1, 0, 1, 0, 1, 0]\n",
    "print(X.loc[len(X)])\n",
    "y_pred = model.predict(X.loc[len(X)].values.reshape(1, -1))"
   ]
  },
  {
   "cell_type": "code",
   "execution_count": 128,
   "metadata": {},
   "outputs": [
    {
     "data": {
      "text/plain": [
       "array([[12.348241]], dtype=float32)"
      ]
     },
     "execution_count": 128,
     "metadata": {},
     "output_type": "execute_result"
    }
   ],
   "source": [
    "y_pred"
   ]
  },
  {
   "cell_type": "code",
   "execution_count": null,
   "metadata": {},
   "outputs": [],
   "source": []
  }
 ],
 "metadata": {
  "kernelspec": {
   "display_name": "Python 3",
   "language": "python",
   "name": "python3"
  },
  "language_info": {
   "codemirror_mode": {
    "name": "ipython",
    "version": 3
   },
   "file_extension": ".py",
   "mimetype": "text/x-python",
   "name": "python",
   "nbconvert_exporter": "python",
   "pygments_lexer": "ipython3",
   "version": "3.6.8"
  }
 },
 "nbformat": 4,
 "nbformat_minor": 5
}
